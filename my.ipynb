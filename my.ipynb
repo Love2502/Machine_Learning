{
 "cells": [
  {
   "cell_type": "code",
   "id": "initial_id",
   "metadata": {
    "collapsed": true,
    "ExecuteTime": {
     "end_time": "2025-05-21T23:34:07.065550Z",
     "start_time": "2025-05-21T23:34:06.742688Z"
    }
   },
   "source": [
    "import pandas as pd\n",
    "import matplotlib.pyplot as plt\n",
    "import seaborn as sns\n",
    "df = pd.read_csv('data/Faults.csv')\n",
    "print(df.shape) #data size"
   ],
   "outputs": [
    {
     "name": "stdout",
     "output_type": "stream",
     "text": [
      "(1941, 34)\n"
     ]
    }
   ],
   "execution_count": 95
  },
  {
   "metadata": {
    "ExecuteTime": {
     "end_time": "2025-05-21T23:34:07.344547Z",
     "start_time": "2025-05-21T23:34:07.275066Z"
    }
   },
   "cell_type": "code",
   "source": "df.head()",
   "id": "fd7e51fabd2a336a",
   "outputs": [
    {
     "data": {
      "text/plain": [
       "   X_Minimum  X_Maximum  Y_Minimum  Y_Maximum  Pixels_Areas  X_Perimeter  \\\n",
       "0         42         50     270900     270944           267           17   \n",
       "1        645        651    2538079    2538108           108           10   \n",
       "2        829        835    1553913    1553931            71            8   \n",
       "3        853        860     369370     369415           176           13   \n",
       "4       1289       1306     498078     498335          2409           60   \n",
       "\n",
       "   Y_Perimeter  Sum_of_Luminosity  Minimum_of_Luminosity  \\\n",
       "0           44              24220                     76   \n",
       "1           30              11397                     84   \n",
       "2           19               7972                     99   \n",
       "3           45              18996                     99   \n",
       "4          260             246930                     37   \n",
       "\n",
       "   Maximum_of_Luminosity  ...  Orientation_Index  Luminosity_Index  \\\n",
       "0                    108  ...             0.8182           -0.2913   \n",
       "1                    123  ...             0.7931           -0.1756   \n",
       "2                    125  ...             0.6667           -0.1228   \n",
       "3                    126  ...             0.8444           -0.1568   \n",
       "4                    126  ...             0.9338           -0.1992   \n",
       "\n",
       "   SigmoidOfAreas  Pastry  Z_Scratch  K_Scratch  Stains  Dirtiness  Bumps  \\\n",
       "0          0.5822       1          0          0       0          0      0   \n",
       "1          0.2984       1          0          0       0          0      0   \n",
       "2          0.2150       1          0          0       0          0      0   \n",
       "3          0.5212       1          0          0       0          0      0   \n",
       "4          1.0000       1          0          0       0          0      0   \n",
       "\n",
       "   Other_Faults  \n",
       "0             0  \n",
       "1             0  \n",
       "2             0  \n",
       "3             0  \n",
       "4             0  \n",
       "\n",
       "[5 rows x 34 columns]"
      ],
      "text/html": [
       "<div>\n",
       "<style scoped>\n",
       "    .dataframe tbody tr th:only-of-type {\n",
       "        vertical-align: middle;\n",
       "    }\n",
       "\n",
       "    .dataframe tbody tr th {\n",
       "        vertical-align: top;\n",
       "    }\n",
       "\n",
       "    .dataframe thead th {\n",
       "        text-align: right;\n",
       "    }\n",
       "</style>\n",
       "<table border=\"1\" class=\"dataframe\">\n",
       "  <thead>\n",
       "    <tr style=\"text-align: right;\">\n",
       "      <th></th>\n",
       "      <th>X_Minimum</th>\n",
       "      <th>X_Maximum</th>\n",
       "      <th>Y_Minimum</th>\n",
       "      <th>Y_Maximum</th>\n",
       "      <th>Pixels_Areas</th>\n",
       "      <th>X_Perimeter</th>\n",
       "      <th>Y_Perimeter</th>\n",
       "      <th>Sum_of_Luminosity</th>\n",
       "      <th>Minimum_of_Luminosity</th>\n",
       "      <th>Maximum_of_Luminosity</th>\n",
       "      <th>...</th>\n",
       "      <th>Orientation_Index</th>\n",
       "      <th>Luminosity_Index</th>\n",
       "      <th>SigmoidOfAreas</th>\n",
       "      <th>Pastry</th>\n",
       "      <th>Z_Scratch</th>\n",
       "      <th>K_Scratch</th>\n",
       "      <th>Stains</th>\n",
       "      <th>Dirtiness</th>\n",
       "      <th>Bumps</th>\n",
       "      <th>Other_Faults</th>\n",
       "    </tr>\n",
       "  </thead>\n",
       "  <tbody>\n",
       "    <tr>\n",
       "      <th>0</th>\n",
       "      <td>42</td>\n",
       "      <td>50</td>\n",
       "      <td>270900</td>\n",
       "      <td>270944</td>\n",
       "      <td>267</td>\n",
       "      <td>17</td>\n",
       "      <td>44</td>\n",
       "      <td>24220</td>\n",
       "      <td>76</td>\n",
       "      <td>108</td>\n",
       "      <td>...</td>\n",
       "      <td>0.8182</td>\n",
       "      <td>-0.2913</td>\n",
       "      <td>0.5822</td>\n",
       "      <td>1</td>\n",
       "      <td>0</td>\n",
       "      <td>0</td>\n",
       "      <td>0</td>\n",
       "      <td>0</td>\n",
       "      <td>0</td>\n",
       "      <td>0</td>\n",
       "    </tr>\n",
       "    <tr>\n",
       "      <th>1</th>\n",
       "      <td>645</td>\n",
       "      <td>651</td>\n",
       "      <td>2538079</td>\n",
       "      <td>2538108</td>\n",
       "      <td>108</td>\n",
       "      <td>10</td>\n",
       "      <td>30</td>\n",
       "      <td>11397</td>\n",
       "      <td>84</td>\n",
       "      <td>123</td>\n",
       "      <td>...</td>\n",
       "      <td>0.7931</td>\n",
       "      <td>-0.1756</td>\n",
       "      <td>0.2984</td>\n",
       "      <td>1</td>\n",
       "      <td>0</td>\n",
       "      <td>0</td>\n",
       "      <td>0</td>\n",
       "      <td>0</td>\n",
       "      <td>0</td>\n",
       "      <td>0</td>\n",
       "    </tr>\n",
       "    <tr>\n",
       "      <th>2</th>\n",
       "      <td>829</td>\n",
       "      <td>835</td>\n",
       "      <td>1553913</td>\n",
       "      <td>1553931</td>\n",
       "      <td>71</td>\n",
       "      <td>8</td>\n",
       "      <td>19</td>\n",
       "      <td>7972</td>\n",
       "      <td>99</td>\n",
       "      <td>125</td>\n",
       "      <td>...</td>\n",
       "      <td>0.6667</td>\n",
       "      <td>-0.1228</td>\n",
       "      <td>0.2150</td>\n",
       "      <td>1</td>\n",
       "      <td>0</td>\n",
       "      <td>0</td>\n",
       "      <td>0</td>\n",
       "      <td>0</td>\n",
       "      <td>0</td>\n",
       "      <td>0</td>\n",
       "    </tr>\n",
       "    <tr>\n",
       "      <th>3</th>\n",
       "      <td>853</td>\n",
       "      <td>860</td>\n",
       "      <td>369370</td>\n",
       "      <td>369415</td>\n",
       "      <td>176</td>\n",
       "      <td>13</td>\n",
       "      <td>45</td>\n",
       "      <td>18996</td>\n",
       "      <td>99</td>\n",
       "      <td>126</td>\n",
       "      <td>...</td>\n",
       "      <td>0.8444</td>\n",
       "      <td>-0.1568</td>\n",
       "      <td>0.5212</td>\n",
       "      <td>1</td>\n",
       "      <td>0</td>\n",
       "      <td>0</td>\n",
       "      <td>0</td>\n",
       "      <td>0</td>\n",
       "      <td>0</td>\n",
       "      <td>0</td>\n",
       "    </tr>\n",
       "    <tr>\n",
       "      <th>4</th>\n",
       "      <td>1289</td>\n",
       "      <td>1306</td>\n",
       "      <td>498078</td>\n",
       "      <td>498335</td>\n",
       "      <td>2409</td>\n",
       "      <td>60</td>\n",
       "      <td>260</td>\n",
       "      <td>246930</td>\n",
       "      <td>37</td>\n",
       "      <td>126</td>\n",
       "      <td>...</td>\n",
       "      <td>0.9338</td>\n",
       "      <td>-0.1992</td>\n",
       "      <td>1.0000</td>\n",
       "      <td>1</td>\n",
       "      <td>0</td>\n",
       "      <td>0</td>\n",
       "      <td>0</td>\n",
       "      <td>0</td>\n",
       "      <td>0</td>\n",
       "      <td>0</td>\n",
       "    </tr>\n",
       "  </tbody>\n",
       "</table>\n",
       "<p>5 rows × 34 columns</p>\n",
       "</div>"
      ]
     },
     "execution_count": 96,
     "metadata": {},
     "output_type": "execute_result"
    }
   ],
   "execution_count": 96
  },
  {
   "metadata": {
    "ExecuteTime": {
     "end_time": "2025-05-21T23:34:07.633143Z",
     "start_time": "2025-05-21T23:34:07.627269Z"
    }
   },
   "cell_type": "code",
   "source": "#print(df.sample(10))",
   "id": "49befa21801b0568",
   "outputs": [],
   "execution_count": 97
  },
  {
   "metadata": {
    "ExecuteTime": {
     "end_time": "2025-05-21T23:34:07.924781Z",
     "start_time": "2025-05-21T23:34:07.917406Z"
    }
   },
   "cell_type": "code",
   "source": "#print(df.info)",
   "id": "f47e999687625584",
   "outputs": [],
   "execution_count": 98
  },
  {
   "metadata": {
    "ExecuteTime": {
     "end_time": "2025-05-21T23:34:08.272416Z",
     "start_time": "2025-05-21T23:34:08.218234Z"
    }
   },
   "cell_type": "code",
   "source": "print(df.isnull().sum()) #are there any missing values ?",
   "id": "ea709741393e141d",
   "outputs": [
    {
     "name": "stdout",
     "output_type": "stream",
     "text": [
      "X_Minimum                0\n",
      "X_Maximum                0\n",
      "Y_Minimum                0\n",
      "Y_Maximum                0\n",
      "Pixels_Areas             0\n",
      "X_Perimeter              0\n",
      "Y_Perimeter              0\n",
      "Sum_of_Luminosity        0\n",
      "Minimum_of_Luminosity    0\n",
      "Maximum_of_Luminosity    0\n",
      "Length_of_Conveyer       0\n",
      "TypeOfSteel_A300         0\n",
      "TypeOfSteel_A400         0\n",
      "Steel_Plate_Thickness    0\n",
      "Edges_Index              0\n",
      "Empty_Index              0\n",
      "Square_Index             0\n",
      "Outside_X_Index          0\n",
      "Edges_X_Index            0\n",
      "Edges_Y_Index            0\n",
      "Outside_Global_Index     0\n",
      "LogOfAreas               0\n",
      "Log_X_Index              0\n",
      "Log_Y_Index              0\n",
      "Orientation_Index        0\n",
      "Luminosity_Index         0\n",
      "SigmoidOfAreas           0\n",
      "Pastry                   0\n",
      "Z_Scratch                0\n",
      "K_Scratch                0\n",
      "Stains                   0\n",
      "Dirtiness                0\n",
      "Bumps                    0\n",
      "Other_Faults             0\n",
      "dtype: int64\n"
     ]
    }
   ],
   "execution_count": 99
  },
  {
   "metadata": {
    "ExecuteTime": {
     "end_time": "2025-05-21T23:34:08.410993Z",
     "start_time": "2025-05-21T23:34:08.394936Z"
    }
   },
   "cell_type": "code",
   "source": "#print(df.describe) #data insights",
   "id": "e947a1189cd380df",
   "outputs": [],
   "execution_count": 100
  },
  {
   "metadata": {
    "ExecuteTime": {
     "end_time": "2025-05-21T23:34:08.518527Z",
     "start_time": "2025-05-21T23:34:08.485064Z"
    }
   },
   "cell_type": "code",
   "source": "print(df.duplicated().sum())",
   "id": "6f3d41c82d6e2bbe",
   "outputs": [
    {
     "name": "stdout",
     "output_type": "stream",
     "text": [
      "0\n"
     ]
    }
   ],
   "execution_count": 101
  },
  {
   "metadata": {
    "ExecuteTime": {
     "end_time": "2025-05-21T23:34:08.613492Z",
     "start_time": "2025-05-21T23:34:08.604218Z"
    }
   },
   "cell_type": "code",
   "source": "#print(df.corr())",
   "id": "ced1c8c84e2d1fa5",
   "outputs": [],
   "execution_count": 102
  },
  {
   "metadata": {
    "ExecuteTime": {
     "end_time": "2025-05-21T23:34:09.482183Z",
     "start_time": "2025-05-21T23:34:08.655621Z"
    }
   },
   "cell_type": "code",
   "source": "plt.hist(df['Bumps'])\n",
   "id": "72d07e240020fbff",
   "outputs": [
    {
     "data": {
      "text/plain": [
       "(array([1539.,    0.,    0.,    0.,    0.,    0.,    0.,    0.,    0.,\n",
       "         402.]),\n",
       " array([0. , 0.1, 0.2, 0.3, 0.4, 0.5, 0.6, 0.7, 0.8, 0.9, 1. ]),\n",
       " <BarContainer object of 10 artists>)"
      ]
     },
     "execution_count": 103,
     "metadata": {},
     "output_type": "execute_result"
    },
    {
     "data": {
      "text/plain": [
       "<Figure size 640x480 with 1 Axes>"
      ],
      "image/png": "[encoded data removed]"
     },
     "metadata": {},
     "output_type": "display_data"
    }
   ],
   "execution_count": 103
  },
  {
   "metadata": {
    "ExecuteTime": {
     "end_time": "2025-05-21T23:34:10.028347Z",
     "start_time": "2025-05-21T23:34:09.571223Z"
    }
   },
   "cell_type": "code",
   "source": "sns.histplot(df['Bumps'])",
   "id": "f624eaff30fd81d9",
   "outputs": [
    {
     "data": {
      "text/plain": [
       "<Axes: xlabel='Bumps', ylabel='Count'>"
      ]
     },
     "execution_count": 104,
     "metadata": {},
     "output_type": "execute_result"
    },
    {
     "data": {
      "text/plain": [
       "<Figure size 640x480 with 1 Axes>"
      ],
      "image/png": "[encoded data removed]"
     },
     "metadata": {},
     "output_type": "display_data"
    }
   ],
   "execution_count": 104
  },
  {
   "metadata": {
    "ExecuteTime": {
     "end_time": "2025-05-21T23:34:10.404351Z",
     "start_time": "2025-05-21T23:34:10.095218Z"
    }
   },
   "cell_type": "code",
   "source": "sns.boxplot(df['X_Maximum'])",
   "id": "71a0fcdd1de5065",
   "outputs": [
    {
     "data": {
      "text/plain": [
       "<Axes: ylabel='X_Maximum'>"
      ]
     },
     "execution_count": 105,
     "metadata": {},
     "output_type": "execute_result"
    },
    {
     "data": {
      "text/plain": [
       "<Figure size 640x480 with 1 Axes>"
      ],
      "image/png": "[encoded data removed]"
     },
     "metadata": {},
     "output_type": "display_data"
    }
   ],
   "execution_count": 105
  },
  {
   "metadata": {
    "ExecuteTime": {
     "end_time": "2025-05-21T23:34:10.474693Z",
     "start_time": "2025-05-21T23:34:10.454106Z"
    }
   },
   "cell_type": "code",
   "source": "df['X_Maximum'],['X_Minimum']",
   "id": "46824fad2c09fdf7",
   "outputs": [
    {
     "data": {
      "text/plain": [
       "(0         50\n",
       " 1        651\n",
       " 2        835\n",
       " 3        860\n",
       " 4       1306\n",
       "         ... \n",
       " 1936     277\n",
       " 1937     175\n",
       " 1938     174\n",
       " 1939     170\n",
       " 1940    1281\n",
       " Name: X_Maximum, Length: 1941, dtype: int64,\n",
       " ['X_Minimum'])"
      ]
     },
     "execution_count": 106,
     "metadata": {},
     "output_type": "execute_result"
    }
   ],
   "execution_count": 106
  },
  {
   "metadata": {
    "ExecuteTime": {
     "end_time": "2025-05-21T23:34:10.568257Z",
     "start_time": "2025-05-21T23:34:10.551426Z"
    }
   },
   "cell_type": "code",
   "source": "df['X_Maximum'].max()",
   "id": "ef4de577f9e860b0",
   "outputs": [
    {
     "data": {
      "text/plain": [
       "np.int64(1713)"
      ]
     },
     "execution_count": 107,
     "metadata": {},
     "output_type": "execute_result"
    }
   ],
   "execution_count": 107
  },
  {
   "metadata": {
    "ExecuteTime": {
     "end_time": "2025-05-21T23:34:10.724654Z",
     "start_time": "2025-05-21T23:34:10.703403Z"
    }
   },
   "cell_type": "code",
   "source": "df['X_Maximum'].mean()",
   "id": "c9a39b60552f299a",
   "outputs": [
    {
     "data": {
      "text/plain": [
       "np.float64(617.9644513137558)"
      ]
     },
     "execution_count": 108,
     "metadata": {},
     "output_type": "execute_result"
    }
   ],
   "execution_count": 108
  },
  {
   "metadata": {
    "ExecuteTime": {
     "end_time": "2025-05-21T23:34:29.537110Z",
     "start_time": "2025-05-21T23:34:29.522263Z"
    }
   },
   "cell_type": "code",
   "source": [
    "#!pip install pandas-profiling\n",
    "#!pip install ydata-profiling\n",
    "\n"
   ],
   "id": "c05900737d349334",
   "outputs": [],
   "execution_count": 111
  },
  {
   "metadata": {
    "ExecuteTime": {
     "end_time": "2025-05-21T23:34:16.902215Z",
     "start_time": "2025-05-21T23:34:16.891321Z"
    }
   },
   "cell_type": "code",
   "source": [
    "#from ydata_profiling import ProfileReport\n",
    "#profile = ProfileReport(df)\n",
    "#profile.to_file('report.html')"
   ],
   "id": "1f1106f00b8e822c",
   "outputs": [],
   "execution_count": 110
  }
 ],
 "metadata": {
  "kernelspec": {
   "display_name": "Python 3",
   "language": "python",
   "name": "python3"
  },
  "language_info": {
   "codemirror_mode": {
    "name": "ipython",
    "version": 2
   },
   "file_extension": ".py",
   "mimetype": "text/x-python",
   "name": "python",
   "nbconvert_exporter": "python",
   "pygments_lexer": "ipython2",
   "version": "2.7.6"
  }
 },
 "nbformat": 4,
 "nbformat_minor": 5
}
